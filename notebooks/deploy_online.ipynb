{
 "cells": [
  {
   "cell_type": "code",
   "execution_count": null,
   "metadata": {},
   "outputs": [],
   "source": [
    "%load_ext autoreload\n",
    "%autoreload 2\n",
    "import os\n",
    "import sys\n",
    "\n",
    "from dotenv import load_dotenv\n",
    "\n",
    "load_dotenv(\"../config/prod.env\")\n",
    "\n",
    "import yaml\n",
    "with open(\"../config/config.yaml\") as f:\n",
    "    cfg = yaml.load(f, Loader=yaml.FullLoader)\n",
    "\n",
    "from azure.ai.ml import MLClient\n",
    "from azure.identity import DefaultAzureCredential, InteractiveBrowserCredential\n",
    "\n",
    "import pandas as pd\n",
    "import mlflow\n",
    "\n",
    "from azure.ai.ml import MLClient, Input\n",
    "from azure.ai.ml.entities import (\n",
    "    ManagedOnlineEndpoint,\n",
    "    ManagedOnlineDeployment,\n",
    "    Model,\n",
    "    Data,\n",
    "    CodeConfiguration,\n",
    "    Environment,\n",
    "    ProbeSettings\n",
    ")\n",
    "\n",
    "from datetime import datetime\n",
    "\n",
    "\n",
    "# enter details of your AML workspace\n",
    "subscription_id = os.getenv(\"subscription_id\")\n",
    "resource_group = os.getenv(\"resource_group\")\n",
    "workspace = os.getenv(\"workspace\")\n",
    "\n",
    "credential = InteractiveBrowserCredential() #DefaultAzureCredential()\n",
    "# get a handle to the workspace\n",
    "ml_client = MLClient(\n",
    "    credential, subscription_id, resource_group, workspace\n",
    ")"
   ]
  },
  {
   "cell_type": "markdown",
   "metadata": {},
   "source": [
    "# Create Online Endpoint"
   ]
  },
  {
   "cell_type": "code",
   "execution_count": null,
   "metadata": {},
   "outputs": [],
   "source": [
    "endpoint_name = cfg[\"online_endpoint\"][\"name\"]\n",
    "\n",
    "# # Get the current time\n",
    "# current_time = datetime.now()\n",
    "# # Convert the current time to a string using the strftime method\n",
    "# time_string = current_time.strftime(\"%Y%m%d%H%M%S\")\n",
    "# endpoint_name = f\"{endpoint_name}-{time_string}\"\n",
    "\n",
    "print(f\"Endpoint name: {endpoint_name}\")"
   ]
  },
  {
   "cell_type": "code",
   "execution_count": null,
   "metadata": {},
   "outputs": [],
   "source": [
    "endpoint = ManagedOnlineEndpoint(\n",
    "    name=endpoint_name, #cfg[\"endpoint\"][\"name\"],\n",
    "    description=cfg[\"online_endpoint\"][\"description\"],\n",
    "    auth_mode=cfg[\"online_endpoint\"][\"auth_mode\"],\n",
    ")"
   ]
  },
  {
   "cell_type": "markdown",
   "metadata": {},
   "source": [
    "## Test Local Endpoint"
   ]
  },
  {
   "cell_type": "code",
   "execution_count": null,
   "metadata": {},
   "outputs": [],
   "source": [
    "ml_client.online_endpoints.begin_create_or_update(endpoint, local=True)\n"
   ]
  },
  {
   "cell_type": "code",
   "execution_count": null,
   "metadata": {},
   "outputs": [],
   "source": [
    "model = Model(path=\"../models/model\")\n",
    "env = Environment(\n",
    "    conda_file=\"../environment/conda_env/conda.yaml\",\n",
    "    image=\"mcr.microsoft.com/azureml/openmpi4.1.0-ubuntu20.04:latest\",\n",
    ")\n",
    "\n",
    "local_deployment = ManagedOnlineDeployment(\n",
    "    name=cfg[\"online_endpoint\"][\"deployment\"][\"name\"],\n",
    "    description=cfg[\"online_endpoint\"][\"deployment\"][\"description\"],\n",
    "    endpoint_name=cfg[\"online_endpoint\"][\"name\"],\n",
    "    model=model,\n",
    "    code_configuration=CodeConfiguration(\n",
    "        code=\"../src/\", scoring_script=\"score.py\"\n",
    "    ),\n",
    "    environment=env,\n",
    "    instance_type=cfg[\"online_endpoint\"][\"deployment\"][\"instance_type\"],\n",
    "    instance_count=cfg[\"online_endpoint\"][\"deployment\"][\"instance_count\"],\n",
    "    # liveness_probe=ProbeSettings,\n",
    "    # readiness_probe=,\n",
    ")"
   ]
  },
  {
   "cell_type": "code",
   "execution_count": null,
   "metadata": {},
   "outputs": [],
   "source": [
    "ml_client.online_deployments.begin_create_or_update(\n",
    "    deployment=local_deployment, local=True\n",
    ")"
   ]
  },
  {
   "cell_type": "code",
   "execution_count": null,
   "metadata": {},
   "outputs": [],
   "source": [
    "ml_client.online_endpoints.get(name=endpoint_name, local=True)\n"
   ]
  },
  {
   "cell_type": "code",
   "execution_count": null,
   "metadata": {},
   "outputs": [],
   "source": [
    "ml_client.online_endpoints.invoke(\n",
    "    endpoint_name=endpoint_name,\n",
    "    request_file=\"../data/endpoint/sample_request.json\",\n",
    "    local=True,\n",
    ")"
   ]
  },
  {
   "cell_type": "code",
   "execution_count": null,
   "metadata": {},
   "outputs": [],
   "source": [
    "logs = ml_client.online_deployments.get_logs(\n",
    "    name=cfg[\"online_endpoint\"][\"deployment\"][\"name\"], endpoint_name=endpoint_name, local=True, lines=50\n",
    ")\n",
    "print(logs)"
   ]
  },
  {
   "cell_type": "code",
   "execution_count": null,
   "metadata": {},
   "outputs": [],
   "source": [
    "ml_client.online_endpoints.begin_delete(name=endpoint_name, local=True)\n"
   ]
  },
  {
   "cell_type": "markdown",
   "metadata": {},
   "source": [
    "## Create live deployment"
   ]
  },
  {
   "cell_type": "code",
   "execution_count": null,
   "metadata": {},
   "outputs": [],
   "source": [
    "ml_client.begin_create_or_update(endpoint).result()\n"
   ]
  },
  {
   "cell_type": "code",
   "execution_count": null,
   "metadata": {},
   "outputs": [],
   "source": [
    "deployment = ManagedOnlineDeployment(\n",
    "    name=cfg[\"online_endpoint\"][\"deployment\"][\"name\"],\n",
    "    description=cfg[\"online_endpoint\"][\"deployment\"][\"description\"],\n",
    "    endpoint_name=cfg[\"online_endpoint\"][\"name\"],\n",
    "    model=ml_client.models.get(name=cfg[\"model\"][\"name\"], label=\"latest\"),\n",
    "    code_configuration=CodeConfiguration(\n",
    "        code=\"../src/\", scoring_script=\"score.py\"\n",
    "    ),\n",
    "    environment=ml_client.environments.get(name=cfg[\"online_endpoint\"][\"environment\"][\"name\"], version=cfg[\"online_endpoint\"][\"environment\"][\"version\"]),\n",
    "    instance_type=cfg[\"online_endpoint\"][\"deployment\"][\"instance_type\"],\n",
    "    instance_count=cfg[\"online_endpoint\"][\"deployment\"][\"instance_count\"],\n",
    "    liveness_probe=ProbeSettings(timeout=2),\n",
    "    readiness_probe=ProbeSettings(timeout=2),\n",
    ")"
   ]
  },
  {
   "cell_type": "code",
   "execution_count": null,
   "metadata": {},
   "outputs": [],
   "source": [
    "ml_client.online_deployments.begin_create_or_update(deployment).result()\n"
   ]
  },
  {
   "cell_type": "code",
   "execution_count": null,
   "metadata": {},
   "outputs": [],
   "source": [
    "logs = ml_client.online_deployments.get_logs(\n",
    "    name=cfg[\"online_endpoint\"][\"deployment\"][\"name\"],\n",
    "    endpoint_name=cfg[\"online_endpoint\"][\"name\"], \n",
    "    lines=100, \n",
    "    container_type=\"storage-initializer\"\n",
    ")\n",
    "print(logs)"
   ]
  },
  {
   "cell_type": "code",
   "execution_count": null,
   "metadata": {},
   "outputs": [],
   "source": [
    "logs = ml_client.online_deployments.get_logs(\n",
    "    name=cfg[\"online_endpoint\"][\"deployment\"][\"name\"],\n",
    "    endpoint_name=cfg[\"online_endpoint\"][\"name\"], \n",
    "    lines=100, \n",
    ")\n",
    "print(logs)"
   ]
  },
  {
   "cell_type": "code",
   "execution_count": null,
   "metadata": {},
   "outputs": [],
   "source": [
    "endpoint.traffic = {deployment.name: 100}\n",
    "ml_client.begin_create_or_update(endpoint).result()"
   ]
  },
  {
   "cell_type": "markdown",
   "metadata": {},
   "source": [
    "# Test invoke"
   ]
  },
  {
   "cell_type": "code",
   "execution_count": null,
   "metadata": {},
   "outputs": [],
   "source": [
    "import ast\n",
    "from io import StringIO"
   ]
  },
  {
   "cell_type": "code",
   "execution_count": null,
   "metadata": {},
   "outputs": [],
   "source": [
    "response = ml_client.online_endpoints.invoke(\n",
    "    endpoint_name=cfg[\"online_endpoint\"][\"name\"],\n",
    "    deployment_name=cfg[\"online_endpoint\"][\"deployment\"][\"name\"],\n",
    "    request_file=\"../data/endpoint/sample_request.json\"\n",
    ")\n",
    "response"
   ]
  },
  {
   "cell_type": "code",
   "execution_count": null,
   "metadata": {},
   "outputs": [],
   "source": [
    "import ast\n",
    "pd.read_json(StringIO(ast.literal_eval(response)))"
   ]
  },
  {
   "cell_type": "markdown",
   "metadata": {},
   "source": [
    "# Invoke with rest api"
   ]
  },
  {
   "cell_type": "code",
   "execution_count": null,
   "metadata": {},
   "outputs": [],
   "source": [
    "import urllib.request\n",
    "import json\n",
    "import os\n",
    "\n",
    "data = {\n",
    "    \"inputs\": [\n",
    "        [0,0,1], \n",
    "        [0.8,1,8],\n",
    "        [0.9,1,1]\n",
    "    ]\n",
    "}\n",
    "\n",
    "body = str.encode(json.dumps(data))\n",
    "\n",
    "url = \"https://<>.westus.inference.ml.azure.com/score\"\n",
    "api_key = \"\"\n",
    "headers = {'Content-Type':'application/json', 'Authorization':('Bearer '+ api_key)}\n",
    "\n",
    "req = urllib.request.Request(url, body, headers)\n",
    "\n",
    "try:\n",
    "    response = urllib.request.urlopen(req)\n",
    "\n",
    "    result = response.read()\n",
    "    print(result)\n",
    "except urllib.error.HTTPError as error:\n",
    "    print(\"The request failed with status code: \" + str(error.code))\n",
    "\n",
    "    # Print the headers - they include the requert ID and the timestamp, which are useful for debugging the failure\n",
    "    print(error.info())\n",
    "    print(error.read().decode(\"utf8\", 'ignore'))"
   ]
  },
  {
   "cell_type": "code",
   "execution_count": null,
   "metadata": {},
   "outputs": [],
   "source": [
    "pd.read_json(StringIO(ast.literal_eval(result.decode(\"utf8\"))))"
   ]
  },
  {
   "cell_type": "code",
   "execution_count": null,
   "metadata": {},
   "outputs": [],
   "source": []
  }
 ],
 "metadata": {
  "kernelspec": {
   "display_name": "aml-testing-OGfMdhkA-py3.11",
   "language": "python",
   "name": "python3"
  },
  "language_info": {
   "codemirror_mode": {
    "name": "ipython",
    "version": 3
   },
   "file_extension": ".py",
   "mimetype": "text/x-python",
   "name": "python",
   "nbconvert_exporter": "python",
   "pygments_lexer": "ipython3",
   "version": "3.11.6"
  }
 },
 "nbformat": 4,
 "nbformat_minor": 2
}
