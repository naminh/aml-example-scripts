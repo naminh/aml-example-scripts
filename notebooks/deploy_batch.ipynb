{
 "cells": [
  {
   "cell_type": "code",
   "execution_count": null,
   "metadata": {},
   "outputs": [],
   "source": [
    "%load_ext autoreload\n",
    "%autoreload 2\n",
    "import os\n",
    "import sys\n",
    "\n",
    "from dotenv import load_dotenv\n",
    "\n",
    "load_dotenv(\"../config/prod.env\")\n",
    "\n",
    "import yaml\n",
    "with open(\"../config/config.yaml\") as f:\n",
    "    cfg = yaml.load(f, Loader=yaml.FullLoader)\n",
    "\n",
    "from azure.ai.ml import MLClient\n",
    "from azure.identity import DefaultAzureCredential, InteractiveBrowserCredential\n",
    "\n",
    "import pandas as pd\n",
    "import mlflow\n",
    "\n",
    "from azure.ai.ml import MLClient, Input, Output\n",
    "from azure.ai.ml.entities import (\n",
    "    BatchEndpoint,\n",
    "    ModelBatchDeployment,\n",
    "    ModelBatchDeploymentSettings,\n",
    "    Data,\n",
    "    BatchRetrySettings,\n",
    "    CodeConfiguration,\n",
    ")\n",
    "from azure.ai.ml.constants import AssetTypes, BatchDeploymentOutputAction\n",
    "\n",
    "from datetime import datetime\n",
    "\n",
    "\n",
    "# enter details of your AML workspace\n",
    "subscription_id = os.getenv(\"subscription_id\")\n",
    "resource_group = os.getenv(\"resource_group\")\n",
    "workspace = os.getenv(\"workspace\")\n",
    "\n",
    "credential = InteractiveBrowserCredential() #DefaultAzureCredential()\n",
    "# get a handle to the workspace\n",
    "ml_client = MLClient(\n",
    "    credential, subscription_id, resource_group, workspace\n",
    ")"
   ]
  },
  {
   "cell_type": "markdown",
   "metadata": {},
   "source": [
    "# Create Batch Endpoint\n",
    "\n",
    "Batch endpoints are endpoints that are used batch inferencing on large volumes of data over a period of time. Batch endpoints receive pointers to data and run jobs asynchronously to process the data in parallel on compute clusters. Batch endpoints store outputs to a data store for further analysis.\n",
    "\n",
    "To create an online endpoint we will use BatchEndpoint. This class allows user to configure the following key aspects:\n",
    "\n",
    "name - Name of the endpoint. Needs to be unique at the Azure region level\n",
    "auth_mode - The authentication method for the endpoint. Currently only Azure Active Directory (Azure AD) token-based (aad_token) authentication is supported.\n",
    "description- Description of the endpoint."
   ]
  },
  {
   "cell_type": "code",
   "execution_count": null,
   "metadata": {},
   "outputs": [],
   "source": [
    "endpoint_name = cfg[\"batch_endpoint\"][\"name\"]\n",
    "\n",
    "# # Get the current time\n",
    "# current_time = datetime.now()\n",
    "# # Convert the current time to a string using the strftime method\n",
    "# time_string = current_time.strftime(\"%Y%m%d%H%M%S\")\n",
    "# endpoint_name = f\"{endpoint_name}-{time_string}\"\n",
    "\n",
    "print(f\"Endpoint name: {endpoint_name}\")"
   ]
  },
  {
   "cell_type": "code",
   "execution_count": null,
   "metadata": {},
   "outputs": [],
   "source": [
    "endpoint = BatchEndpoint(\n",
    "    name=endpoint_name, #cfg[\"endpoint\"][\"name\"],\n",
    "    description=cfg[\"batch_endpoint\"][\"description\"],\n",
    ")\n",
    "ml_client.batch_endpoints.begin_create_or_update(endpoint).result()\n"
   ]
  },
  {
   "cell_type": "markdown",
   "metadata": {},
   "source": [
    "# Create a deployment"
   ]
  },
  {
   "cell_type": "code",
   "execution_count": null,
   "metadata": {},
   "outputs": [],
   "source": [
    "deployment = ModelBatchDeployment(\n",
    "    name=cfg[\"batch_endpoint\"][\"deployment\"][\"name\"],\n",
    "    description=cfg[\"batch_endpoint\"][\"deployment\"][\"description\"],\n",
    "    endpoint_name=cfg[\"batch_endpoint\"][\"name\"],\n",
    "    model=ml_client.models.get(name=cfg[\"model\"][\"name\"], version=cfg[\"model\"][\"version\"]),\n",
    "    code_configuration=CodeConfiguration(\n",
    "        code=\"../src/\", scoring_script=\"score_batch.py\"\n",
    "    ),\n",
    "    environment=ml_client.environments.get(name=cfg[\"batch_endpoint\"][\"environment\"][\"name\"], version=cfg[\"batch_endpoint\"][\"environment\"][\"version\"]),\n",
    "    compute=cfg[\"batch_endpoint\"][\"compute\"][\"name\"],\n",
    "    settings=ModelBatchDeploymentSettings(\n",
    "        instance_count=cfg[\"batch_endpoint\"][\"deployment\"][\"instance_count\"],\n",
    "        max_concurrency_per_instance=cfg[\"batch_endpoint\"][\"deployment\"][\"max_concurrency_per_instance\"],\n",
    "        mini_batch_size=cfg[\"batch_endpoint\"][\"deployment\"][\"mini_batch_size\"],\n",
    "        output_action=BatchDeploymentOutputAction.APPEND_ROW,\n",
    "        output_file_name=cfg[\"batch_endpoint\"][\"deployment\"][\"output_file_name\"],\n",
    "        retry_settings=BatchRetrySettings(max_retries=1, timeout=300),\n",
    "        logging_level=cfg[\"batch_endpoint\"][\"deployment\"][\"logging_level\"],\n",
    "    ),\n",
    "    \n",
    ")"
   ]
  },
  {
   "cell_type": "code",
   "execution_count": null,
   "metadata": {},
   "outputs": [],
   "source": [
    "ml_client.begin_create_or_update(deployment).result()\n"
   ]
  },
  {
   "cell_type": "code",
   "execution_count": null,
   "metadata": {},
   "outputs": [],
   "source": [
    "ml_client.batch_deployments.get(name=deployment.name, endpoint_name=endpoint.name)\n"
   ]
  },
  {
   "cell_type": "markdown",
   "metadata": {},
   "source": [
    "# Test invoke"
   ]
  },
  {
   "cell_type": "code",
   "execution_count": null,
   "metadata": {},
   "outputs": [],
   "source": [
    "invocation_data = Data(\n",
    "    path=cfg[\"data\"][\"invocation\"][\"path\"],\n",
    "    type=AssetTypes.URI_FOLDER,\n",
    "    description=cfg[\"data\"][\"invocation\"][\"description\"],\n",
    "    name=cfg[\"data\"][\"invocation\"][\"name\"],\n",
    ")\n",
    "ml_client.data.create_or_update(invocation_data)\n"
   ]
  },
  {
   "cell_type": "code",
   "execution_count": null,
   "metadata": {},
   "outputs": [],
   "source": [
    "invocation_data = ml_client.data.get(name=cfg[\"data\"][\"invocation\"][\"name\"], label=cfg[\"data\"][\"invocation\"][\"version\"])"
   ]
  },
  {
   "cell_type": "code",
   "execution_count": null,
   "metadata": {},
   "outputs": [],
   "source": [
    "job = ml_client.batch_endpoints.invoke(\n",
    "    endpoint_name=cfg[\"batch_endpoint\"][\"name\"],\n",
    "    deployment_name=cfg[\"batch_endpoint\"][\"deployment\"][\"name\"],\n",
    "    input=Input(\n",
    "        path=invocation_data.id,\n",
    "        type=AssetTypes.URI_FOLDER,\n",
    "    ),\n",
    ")"
   ]
  },
  {
   "cell_type": "code",
   "execution_count": null,
   "metadata": {},
   "outputs": [],
   "source": [
    "# az ml batch-endpoint invoke --name rat-classifier --deployment-name rat-deployment --input data/endpoint/sample_invocation/ --instance-count 1 --mini-batch-size 2 --resource-group my-resource-group --workspace-name my-workspace\n"
   ]
  },
  {
   "cell_type": "markdown",
   "metadata": {},
   "source": [
    "## Control Output location"
   ]
  },
  {
   "cell_type": "code",
   "execution_count": null,
   "metadata": {},
   "outputs": [],
   "source": [
    "datastore = ml_client.datastores.get(name=cfg[\"datastore\"][\"name\"])\n",
    "datastore.id"
   ]
  },
  {
   "cell_type": "code",
   "execution_count": null,
   "metadata": {},
   "outputs": [],
   "source": [
    "data_path = \"\""
   ]
  },
  {
   "cell_type": "code",
   "execution_count": null,
   "metadata": {},
   "outputs": [],
   "source": [
    "job = ml_client.batch_endpoints.invoke(\n",
    "   endpoint_name=cfg[\"batch_endpoint\"][\"name\"],\n",
    "   deployment_name=cfg[\"batch_endpoint\"][\"deployment\"][\"name\"],\n",
    "   input=Input(\n",
    "      path=invocation_data.id,\n",
    "      type=AssetTypes.URI_FOLDER,\n",
    "   ),\n",
    "   outputs=Output(\n",
    "      type=AssetTypes.URI_FOLDER, \n",
    "      path=f\"{datastore.id}/paths/{data_path}\"\n",
    "   )\n",
    ")"
   ]
  }
 ],
 "metadata": {
  "kernelspec": {
   "display_name": "aml-testing-OGfMdhkA-py3.11",
   "language": "python",
   "name": "python3"
  },
  "language_info": {
   "codemirror_mode": {
    "name": "ipython",
    "version": 3
   },
   "file_extension": ".py",
   "mimetype": "text/x-python",
   "name": "python",
   "nbconvert_exporter": "python",
   "pygments_lexer": "ipython3",
   "version": "3.11.6"
  }
 },
 "nbformat": 4,
 "nbformat_minor": 2
}
