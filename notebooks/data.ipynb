{
 "cells": [
  {
   "cell_type": "markdown",
   "metadata": {},
   "source": [
    "# Register data assets"
   ]
  },
  {
   "cell_type": "code",
   "execution_count": null,
   "metadata": {},
   "outputs": [],
   "source": [
    "from azure.ai.ml import MLClient\n",
    "from azure.identity import DefaultAzureCredential\n",
    "\n",
    "import os\n",
    "import pandas as pd\n",
    "\n",
    "import yaml\n",
    "with open(\"../config/config.yaml\") as f:\n",
    "    cfg = yaml.load(f, Loader=yaml.FullLoader)\n",
    "\n",
    "# enter details of your AML workspace\n",
    "subscription_id = os.getenv(\"subscription_id\")\n",
    "resource_group = os.getenv(\"resource_group\")\n",
    "workspace = os.getenv(\"workspace\")\n",
    "\n",
    "# get a handle to the workspace\n",
    "ml_client = MLClient(\n",
    "    DefaultAzureCredential(), subscription_id, resource_group, workspace\n",
    ")\n",
    "    "
   ]
  },
  {
   "cell_type": "markdown",
   "metadata": {},
   "source": [
    "# Create data asset"
   ]
  },
  {
   "cell_type": "code",
   "execution_count": null,
   "metadata": {},
   "outputs": [],
   "source": [
    "from azure.ai.ml.entities import Data\n",
    "from azure.ai.ml.constants import AssetTypes\n",
    "\n",
    "try:\n",
    "    registered_data_asset = ml_client.data.get(name=\"\", version=\"1\")\n",
    "    print(\"Found data asset. Will not create again\")\n",
    "except Exception as ex:\n",
    "    my_data = Data(\n",
    "        path=cfg[\"data\"][\"training\"][\"path\"],\n",
    "        type=AssetTypes.URI_FILE,\n",
    "        description=cfg[\"data\"][\"training\"][\"description\"],\n",
    "        name=cfg[\"data\"][\"training\"][\"name\"],\n",
    "        version=cfg[\"data\"][\"training\"][\"version\"],\n",
    "    )\n",
    "    ml_client.data.create_or_update(my_data)\n",
    "    registered_data_asset = ml_client.data.get(name=\"\", version=\"1\")\n",
    "    print(\"Created data asset\")"
   ]
  },
  {
   "cell_type": "code",
   "execution_count": null,
   "metadata": {},
   "outputs": [],
   "source": [
    "df = pd.read_csv(registered_data_asset.path)\n",
    "df.head()"
   ]
  },
  {
   "cell_type": "markdown",
   "metadata": {},
   "source": [
    "# Load data"
   ]
  },
  {
   "cell_type": "markdown",
   "metadata": {},
   "source": [
    "## Datastore URI Folder - Delta lake"
   ]
  },
  {
   "cell_type": "code",
   "execution_count": null,
   "metadata": {},
   "outputs": [],
   "source": [
    "import mltable\n",
    "\n",
    "data_asset = ml_client.data.get(\"\", version=\"1\")\n",
    "\n",
    "tbl = mltable.from_delta_lake(delta_table_uri=data_asset.path)\n",
    "df = tbl.to_pandas_dataframe()\n",
    "df"
   ]
  },
  {
   "cell_type": "markdown",
   "metadata": {},
   "source": [
    "## Datastore URI File - File"
   ]
  },
  {
   "cell_type": "code",
   "execution_count": null,
   "metadata": {},
   "outputs": [],
   "source": [
    "data_asset = ml_client.data.get(\"\", version=\"1\")\n",
    "\n",
    "df = pd.read_table(data_asset.path)\n",
    "df"
   ]
  },
  {
   "cell_type": "markdown",
   "metadata": {},
   "source": [
    "# MLTable from DL"
   ]
  },
  {
   "cell_type": "code",
   "execution_count": null,
   "metadata": {},
   "outputs": [],
   "source": [
    "import mltable\n",
    "\n",
    "# define the cloud path containing the delta table (where the _delta_log file is stored)\n",
    "st_account = \"\"\n",
    "container = \"\"\n",
    "path_to_delta_table = \"\"\n",
    "delta_table = f\"abfss://{container}@{st_account}.dfs.core.windows.net/{path_to_delta_table}\"\n",
    "\n",
    "# create an MLTable. Note the timestamp_as_of parameter for time travel.\n",
    "tbl = mltable.from_delta_lake(\n",
    "    delta_table_uri=delta_table,\n",
    ")\n",
    "df = tbl.to_pandas_dataframe()\n",
    "df"
   ]
  },
  {
   "cell_type": "code",
   "execution_count": null,
   "metadata": {},
   "outputs": [],
   "source": [
    "df = tbl.to_pandas_dataframe()\n",
    "df"
   ]
  },
  {
   "cell_type": "code",
   "execution_count": null,
   "metadata": {},
   "outputs": [],
   "source": []
  }
 ],
 "metadata": {
  "kernelspec": {
   "display_name": "aml-testing-OGfMdhkA-py3.11",
   "language": "python",
   "name": "python3"
  },
  "language_info": {
   "codemirror_mode": {
    "name": "ipython",
    "version": 3
   },
   "file_extension": ".py",
   "mimetype": "text/x-python",
   "name": "python",
   "nbconvert_exporter": "python",
   "pygments_lexer": "ipython3",
   "version": "3.11.6"
  }
 },
 "nbformat": 4,
 "nbformat_minor": 2
}
